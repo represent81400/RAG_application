{
  "nbformat": 4,
  "nbformat_minor": 0,
  "metadata": {
    "colab": {
      "provenance": [],
      "gpuType": "T4"
    },
    "kernelspec": {
      "name": "python3",
      "display_name": "Python 3"
    },
    "language_info": {
      "name": "python"
    },
    "accelerator": "GPU"
  },
  "cells": [
    {
      "cell_type": "code",
      "source": [
        "from google.colab import userdata\n",
        "import os\n",
        "\n",
        "OPENAI_API_KEY = userdata.get('OPENAI_API_KEY')\n",
        "\n",
        "YOUTUBE_VIDEO = \"https://youtu.be/oO8w6XcXJUs\""
      ],
      "metadata": {
        "id": "-URT73CfspbO"
      },
      "execution_count": 122,
      "outputs": []
    },
    {
      "cell_type": "code",
      "source": [
        "#Setting up the model\n",
        "\n",
        "from langchain_openai.chat_models import ChatOpenAI\n",
        "\n",
        "model = ChatOpenAI(openai_api_key=OPENAI_API_KEY, model=\"gpt-3.5-turbo\")"
      ],
      "metadata": {
        "id": "d48NBLQKtURx"
      },
      "execution_count": 123,
      "outputs": []
    },
    {
      "cell_type": "code",
      "source": [
        "model.invoke(\"Which NBA team won the NBA Finals in the 2019?\")"
      ],
      "metadata": {
        "colab": {
          "base_uri": "https://localhost:8080/"
        },
        "id": "LqiAvVPCu5x-",
        "outputId": "11e565a4-54ba-4fdf-b1f7-9135d9e7a1f5"
      },
      "execution_count": 124,
      "outputs": [
        {
          "output_type": "execute_result",
          "data": {
            "text/plain": [
              "AIMessage(content='The Toronto Raptors won the NBA Finals in 2019.', additional_kwargs={'refusal': None}, response_metadata={'token_usage': {'completion_tokens': 12, 'prompt_tokens': 20, 'total_tokens': 32, 'completion_tokens_details': {'reasoning_tokens': 0}}, 'model_name': 'gpt-3.5-turbo-0125', 'system_fingerprint': None, 'finish_reason': 'stop', 'logprobs': None}, id='run-d91d7896-2f26-4ecf-b2a9-277b43cce9a2-0', usage_metadata={'input_tokens': 20, 'output_tokens': 12, 'total_tokens': 32})"
            ]
          },
          "metadata": {},
          "execution_count": 124
        }
      ]
    },
    {
      "cell_type": "code",
      "source": [
        "model.invoke(\"Who won the Oscars for Best Actor in 2018?\")"
      ],
      "metadata": {
        "colab": {
          "base_uri": "https://localhost:8080/"
        },
        "id": "77PIfF0ZvSos",
        "outputId": "d8cb95dc-a79e-431c-ac33-46c520e73939"
      },
      "execution_count": 125,
      "outputs": [
        {
          "output_type": "execute_result",
          "data": {
            "text/plain": [
              "AIMessage(content='Gary Oldman won the Oscar for Best Actor in 2018 for his role as Winston Churchill in the film \"Darkest Hour.\"', additional_kwargs={'refusal': None}, response_metadata={'token_usage': {'completion_tokens': 27, 'prompt_tokens': 19, 'total_tokens': 46, 'completion_tokens_details': {'reasoning_tokens': 0}}, 'model_name': 'gpt-3.5-turbo-0125', 'system_fingerprint': None, 'finish_reason': 'stop', 'logprobs': None}, id='run-5274c721-10b3-401b-9718-4a3b74b7f140-0', usage_metadata={'input_tokens': 19, 'output_tokens': 27, 'total_tokens': 46})"
            ]
          },
          "metadata": {},
          "execution_count": 125
        }
      ]
    },
    {
      "cell_type": "code",
      "source": [
        "from langchain_core.output_parsers import StrOutputParser\n",
        "\n",
        "parser = StrOutputParser()\n",
        "\n",
        "chain = model | parser\n",
        "\n",
        "chain.invoke(\"Who won the Preimer League in 2019?\")"
      ],
      "metadata": {
        "colab": {
          "base_uri": "https://localhost:8080/",
          "height": 35
        },
        "id": "0baAsOMnvmXm",
        "outputId": "56578d40-d04d-4ff5-b5f0-6698d86415fd"
      },
      "execution_count": 126,
      "outputs": [
        {
          "output_type": "execute_result",
          "data": {
            "text/plain": [
              "'Manchester City won the Premier League in 2019.'"
            ],
            "application/vnd.google.colaboratory.intrinsic+json": {
              "type": "string"
            }
          },
          "metadata": {},
          "execution_count": 126
        }
      ]
    },
    {
      "cell_type": "code",
      "source": [
        "#Introducing propmt templates\n",
        "\n",
        "from langchain.prompts import ChatPromptTemplate\n",
        "\n",
        "\n",
        "template = \"\"\"\n",
        "Answer the question based on the context below. If you can't\n",
        "answer the question, reply \"I don't know the answer to that question.\"\n",
        "\n",
        "Context: {context}\n",
        "\n",
        "Question: {question}\n",
        "\"\"\"\n",
        "\n",
        "prompt = ChatPromptTemplate.from_template(template)\n",
        "prompt.format(context=\"Aneta's brother is John\", question=\"Who is Aneta's brother?\")\n"
      ],
      "metadata": {
        "colab": {
          "base_uri": "https://localhost:8080/",
          "height": 52
        },
        "id": "vln7KGVswCS-",
        "outputId": "a2160d2c-5b80-4df6-86c1-f831b5592d02"
      },
      "execution_count": 127,
      "outputs": [
        {
          "output_type": "execute_result",
          "data": {
            "text/plain": [
              "'Human: \\nAnswer the question based on the context below. If you can\\'t\\nanswer the question, reply \"I don\\'t know the answer to that question.\"\\n\\nContext: Aneta\\'s brother is John\\n\\nQuestion: Who is Aneta\\'s brother?\\n'"
            ],
            "application/vnd.google.colaboratory.intrinsic+json": {
              "type": "string"
            }
          },
          "metadata": {},
          "execution_count": 127
        }
      ]
    },
    {
      "cell_type": "code",
      "source": [
        "chain = prompt | model | parser\n",
        "\n",
        "chain.invoke({\n",
        "    \"context\": \"Aneta's brother is John\",\n",
        "    \"question\": \"Whi is Aneta's brother?\"\n",
        "})"
      ],
      "metadata": {
        "colab": {
          "base_uri": "https://localhost:8080/",
          "height": 35
        },
        "id": "LKXXwNybyfKE",
        "outputId": "e6b950b5-b91f-409b-9572-a6d9399fc42d"
      },
      "execution_count": 128,
      "outputs": [
        {
          "output_type": "execute_result",
          "data": {
            "text/plain": [
              "\"Aneta's brother is John.\""
            ],
            "application/vnd.google.colaboratory.intrinsic+json": {
              "type": "string"
            }
          },
          "metadata": {},
          "execution_count": 128
        }
      ]
    },
    {
      "cell_type": "code",
      "source": [
        "# Combining chains\n",
        "\n",
        "translation_prompt = ChatPromptTemplate.from_template(\n",
        "     \"Translate {answer} to {language}\"\n",
        ")\n"
      ],
      "metadata": {
        "id": "WmZtBZLrzby-"
      },
      "execution_count": 129,
      "outputs": []
    },
    {
      "cell_type": "code",
      "source": [
        "from operator import itemgetter\n",
        "\n",
        "translation_chain = (\n",
        "    {\"answer\": chain, \"language\": itemgetter(\"language\")} | translation_prompt | model | parser\n",
        ")\n",
        "\n",
        "translation_chain.invoke(\n",
        "    {\n",
        "    \"context\": \"Aneta's brother is John. She doesn't have any more siblings.\",\n",
        "    \"question\": \"How many siblings does Aneta have?\",\n",
        "    \"language\": \"French\",\n",
        "    }\n",
        ")"
      ],
      "metadata": {
        "colab": {
          "base_uri": "https://localhost:8080/",
          "height": 35
        },
        "id": "xksuBMLk0kOL",
        "outputId": "0d715213-be6a-46de-c5d3-8814e4723895"
      },
      "execution_count": 130,
      "outputs": [
        {
          "output_type": "execute_result",
          "data": {
            "text/plain": [
              "'Aneta a un frère, son frère John.'"
            ],
            "application/vnd.google.colaboratory.intrinsic+json": {
              "type": "string"
            }
          },
          "metadata": {},
          "execution_count": 130
        }
      ]
    },
    {
      "cell_type": "code",
      "source": [
        "# Transcribing the YouTube Video\n",
        "\n",
        "import tempfile\n",
        "import whisper\n",
        "from pytubefix import YouTube\n",
        "from pytubefix.cli import on_progress\n",
        "\n",
        "if not os.path.exists(\"transcription.txt\"):\n",
        "  youtube = YouTube(YOUTUBE_VIDEO)\n",
        "  audio = youtube.streams.filter(only_audio=True).first()\n",
        "\n",
        "\n",
        "  whisper_model = whisper.load_model(\"base\")\n",
        "\n",
        "  with tempfile.TemporaryDirectory() as tmpdir:\n",
        "    file = audio.download(output_path=tmpdir)\n",
        "    transcription = whisper_model.transcribe(file, fp16=False)[\"text\"].strip()\n",
        "\n",
        "    with open(\"transcription.txt\", \"w\") as file:\n",
        "      file.write(transcription)"
      ],
      "metadata": {
        "id": "DYlx0etW1dHw"
      },
      "execution_count": 131,
      "outputs": []
    },
    {
      "cell_type": "code",
      "source": [
        "with open(\"transcription.txt\") as file:\n",
        "  transcription = file.read()\n",
        "\n",
        "transcription[:100]"
      ],
      "metadata": {
        "colab": {
          "base_uri": "https://localhost:8080/",
          "height": 35
        },
        "id": "cN3HA9gJ_TZQ",
        "outputId": "733e24a6-883d-4525-cbc7-876abb2e6bfd"
      },
      "execution_count": 132,
      "outputs": [
        {
          "output_type": "execute_result",
          "data": {
            "text/plain": [
              "'My first guest is the man who made electric cars a thing, and is currently working on perfecting reu'"
            ],
            "application/vnd.google.colaboratory.intrinsic+json": {
              "type": "string"
            }
          },
          "metadata": {},
          "execution_count": 132
        }
      ]
    },
    {
      "cell_type": "code",
      "source": [
        "# Using transcription as context\n",
        "\n",
        "try:\n",
        "  chain.invoke({\n",
        "      \"context\": transcription,\n",
        "      \"question\": \"is making electric cars a good idea?\"\n",
        "  })\n",
        "except Exception as e:\n",
        "  print(e)"
      ],
      "metadata": {
        "id": "b6tdM3j4_kHC"
      },
      "execution_count": 133,
      "outputs": []
    },
    {
      "cell_type": "code",
      "source": [
        "# Splitting the trasncription\n",
        "\n",
        "from langchain_community.document_loaders import TextLoader\n",
        "\n",
        "loader = TextLoader(\"transcription.txt\")\n",
        "text_documents = loader.load()\n",
        "text_documents\n"
      ],
      "metadata": {
        "colab": {
          "base_uri": "https://localhost:8080/"
        },
        "id": "NkiItXfvAUWf",
        "outputId": "0cc704b8-a648-4c3e-d652-af1266b575eb"
      },
      "execution_count": 134,
      "outputs": [
        {
          "output_type": "execute_result",
          "data": {
            "text/plain": [
              "[Document(metadata={'source': 'transcription.txt'}, page_content=\"My first guest is the man who made electric cars a thing, and is currently working on perfecting reusable rockets, space travel, connecting the human brain directly to computers, connecting cities with electromagnetic bullet trains, the Starling satellite system, that's so important to the war in Ukraine, and then on Tuesday. LAUGHTER It's going to work on that tunnel thing on traffic. He also tweets a lot. Elon Musk, ladies and gentlemen. CHEERING AND APPLAUSE Look at you. LAUGHTER Come on. Come on. CHEERING AND APPLAUSE What did I get the full order of things that you do in a day there when I was reading there? I left out the tunnel thing at the end. Do you work on all these... A lot of jobs. Do you do all these things every day? Do you work on all of them in a single day? No. But I do have a long work day. Yeah, so I work a lot. LAUGHTER Well, I'm so thrilled you're here, because, you know, we do a show where we talk about what changes happen in the world, but we just talk. There's a very few people who actually make change happen. You are one of those people, probably. CHEERING AND APPLAUSE CHEERING AND APPLAUSE You know, I sort of say, I love this audience. LAUGHTER Well, you're a likable guy. I mean, they attack you a lot. Better. And you seem to laugh it off, which I think is fantastic. I love it that you have a sense of humor, because a guy, as important as you, who makes changes, could use your powers for evil and not good. The fact that you... Absolutely. You could. Of course, I would never use them for evil, not for evil. No, I know. But the way I know that is because you have a sense of humor. Oh, yeah. You really do. I started. You like laughing. You like to be funny. I kill me. Right. LAUGHTER AND APPLAUSE No, I... As opposed to somebody like Zuckerberg, who I'm not even sure is a real boy. LAUGHTER AND APPLAUSE Yeah. Um... APPLAUSE I actually love comedy. And I should, you know, like many years ago, I actually was in the audience here, and watched your show. Oh, really? It's been a long time, my review show. Oh, well, thank you. LAUGHTER I... APPLAUSE Let me get back to you being a genius. LAUGHTER But that has always been my view. I was a history major. And when you study history, what you realize is that, you know, there's the great man theory, and they talk about kings and princes and queens and presidents. It's really the people in tech who change the world. They're the people who deal the cards. Whether it's fire or electricity for good or bad, or the cotton gin, or the iPhone, or the atom bomb. Those are the cards, and the rest of us just play it. Would you agree with that assessment? I think technology is the thing that causes these big step changes in civilization. So obviously you've got things like, say, the Gutenberg Press, before which... Right. ...was very difficult to get books. Yes. ...there were very rare, even if you had a thirst for knowledge, you really couldn't do anything about it, because there were very few books to read. And the internet is something beyond the Gutenberg Press, I think. But, you know, it's... I'm going to first of all, the internet coming into being in a way that the general public could use it. It felt like the humanity as a whole was developing a nervous system. So previously, the way the information would travel would be by osmosis, one person to another, or one person calling another. But the access to information is very limited. Now, with the internet, it's like having a nervous system. It's like any part of humanity has access to almost all the information of humanity. Like you could be in the middle of the Amazon jungle, whether it's a startling terminal, and have access to more information than the president did in 1980. Right. Well, anything on your phone? Everything. Is... Yeah. Okay. So, you are one of these dealers, these people who deal the cards, and say... I deal some names, too. I guess you do. So, uh... Okay. So, I think a lot of people thought when you bought Twitter that this is kind of an outlier. Like, how does this... What doesn't fit with these other things you're doing? I never thought that, because I think... You're dealing with big civilizational issues and problems, and I was right on your page. I think Twitter is one of them. I mean, you have talked about this, uh... Woke Mind Virus. Yes. And really apocalyptic terms. I don't... You shouldn't explain why you don't think it's hyperbole to say things like it's pushing civilization towards suicide. First of all, what is the Woke Mind Virus? And if we don't deal with this, nothing else can get done. Tell me why you think that. Yeah. So, um... I think we need to be very cautious about anything that is anti-marital-cratic, and anything that is... That results in the suppression of free speech. So, you know, those are two of the aspects of the Woke Mind Virus that I think are very dangerous. It's often anti-marital-cratic. You can't question things. Even the questioning is bad. So, uh... You know, another way to... Or almost anonymous would be cancel culture. And obviously people have tried to cancel you many times. Many times. Yeah. I mean, every week. Yeah. From last time, right. I've had it from both sides. Yeah. I mean, people... You and I are both like in that little group of people. Maybe it's a bigger group now. Yeah. Who are called conservative, who haven't really changed. Right. See, think of you as a conservative. I'm definitely... Yeah, like... I at least think of myself as a moderate. You know, so... I mean, at least... Like, I've spent a massive amount of my life energy building sustainable energy, you know, electric vehicles and batteries and solar and stuff to help save the environment. That's not a... Yeah. You know... You see... It's not exactly far right. You know... You drew that diagram once, where you're here. I related to that. And like, the world has changed. Right. I feel the same way. I feel like very often, wokeness is not building on liberalism. It's the opposite of liberalism. I can mention this. Yes, exactly. Many examples where it's the... Including free speech. Free speech is actually... It's extremely important. And it's bizarre that we've come to this point where... Like, free speech used to be a left or a liberal value. And yet, we see from, you know, the encodes left a desire to actually censor. And that seems crazy. I mean, I think we should be extremely concerned about anything that... Unreminds the First Amendment. There's a reason for the First Amendment. The First Amendment is because people came from countries where they could not speak freely. And where things, certain things, we would get you thrown into prison. And they were like, well, we don't want that here. And by the way, in many parts of the world, including possible that people might think are relatively similar to the United States, the speech laws are draconian. England is quite different. I won't name any countries, but... England. Why are we protecting them? They have no further than that. It's very easy to prove why, but in England, where we're here, it's all too... I love England. But... Yeah, you too. But I would want to say the wrong thing. Yes. You could be sued easier. I mean, there are law... In France, I think if you deny the Holocaust, which I think is abhorrent, but I also think it should be part of free speech. Right. You can be thrown into jail. Okay, so this... I really can't emphasize this enough. We must... We must protect free speech. And free speech only matters. It's only relevant when it's someone you don't like saying something you like. Of course. Because obviously, the speech that you like is... Yes. That's easy. So it's... And it's... The thing about censorship is that... For those who are advocated, just remember, at some point, that will be turned on you. So... This... This woke mind virus. How did it start? Was it bats? Was it a... You bat the scape from the lab? I mean, what is your assessment of why? Because it's fairly recent. Why... How did it start and why? I was... I was trying to figure out where it's coming from. I think it's actually been a long time brewing in that it's... I think it's been going on for a while. And... The amount of indoctrination that's happening in schools and universities is, I think, far beyond what parents realize. And I only came to realize this somewhat late. The experience that we had in high school and college is not the experience that kids today are having. And hasn't been for, I don't know, 10 years, maybe 20 years. So... My parents themselves also have a big part of the problem. They... Well, I suppose in some cases that parents... But I think like the... Parents are just generally not aware of what their kids are being taught. Or what they're not being taught. Okay. They're letting the kids think that they're equal. Yeah, let me give you an example that a friend of mine told me, which his daughter's go to college and so go to high school in the Bay Area. And... And he was asking them, like, well, so who are the first few presidents of the United States? They could name Washington. And I said, what do you know about him? Well, he was a slave owner. What else? Right. Exactly. Like, okay, that's maybe you should know more than that. You know? Yeah. And that is the world's mind virus. Exactly. Yeah. So it's actually... It's like, you know, the... You know, slavery is obviously a horrific institution, but we should still know more about George Washington than that. And by the way, one that was practiced all over the world forever, since the beginning of time by every race, including people of color. I'm sorry to tell you that. It's huge in the Bible. Absolutely. So the Bible loves it. We're... I... Really? Yes. They're quite strict about, like, you know, it takes someone else's slave and I kind of... Right, but no one ever says just don't do it. They don't. They don't. They don't... At no point does the slave freeze back in the Bible. No. They did not condemn it at all. They just... So it's... But Twitter is not doing bad, right? I mean, I saw today that Tucker Carlson recently fired. You were just on his show and he lost his jobs, so I hope this isn't an all. Yeah. Yeah. That's... Hopefully, yeah. What do you do? I'm not the typewriter of... I'm not the typewriter of a... No. ...toxos. But here's some reason people just get fired after... But here's some reason people just get fired after. His rant yesterday or today on Twitter... Did he yesterday or something like that? Or did he talk about... Or did he talk about... Or did he talk about... Or did he talk about... Or did he... ...than every cable news monologue or something like that? Is that, right? Well, Twitter has a tremendous audience. So there's 250 million people that spend an average of half an hour day on Twitter. So it's about 120 to 130 million user hours per day and it's been increasing. So we didn't do anything to be clear. We did nothing special whatsoever. I learned about it afterwards that he had posted something on Twitter. So it's just that Twitter has a lot of people's attention. And it tends to be the people that read a lot or are interested in card events. And generally are pretty influential. But most of the people who tweet are the same people, right? I mean, the people who actually tweet are supposed to just reading it. Yeah. I feel like that's... I've read this many times. That's a very small percentage of the people on Twitter. And it seems like... Yeah. See, here's why I don't tweet anymore because you may be the mayor of tweet town now. Yeah. And a mayor of tweet town. And beginning at Cap with that. Yeah. And I'm glad... And I like it that the mayor likes my jokes. But the reason I don't do it anymore is because the mob of Mean Girls is still there. And that has not changed. I know. It's too easy to get canceled. And I don't even know what pisses them off. They're so nuts, these kids. I feel like I'm walking on a roof with a blindfold. I could fall off any time. Yeah. That was the most innocuous thing. But it's like, you know, I said George Washington was a great president. Oh, how dare you? Yeah. Yeah, exactly. It hit some flaws. But I... How did you fix that? It's instrumental in the... Mr. Mayor. ...the creation of the United States. Yeah. Well, you have to say, like, what does canceled mean? You know, I mean, yes, people attack you on Twitter. That's one thing. But frankly, that's just going to increase engagement. So I would just ignore it. Well, that's easy for you because they can't take your job away. Or any of your main 10 jobs. But they could take mine. And they did once, by the way. Yeah. So... They all affair. You know, I was like literally canceled. It was, yeah. I mean, like, the show is canceled. It's a lot. But, okay, so you were in Congress... At Congress the other day talking with Chuck Schumer about, Hey, I'm very interested in this because even on this for years, I've always thought you were right about this. I think you're right about almost everything. I mean, let's have more babies and raise them on Mars. And don't get that. But, okay. Well, I think we should be cautious about civilizational decline with... And we have plummeting both rates, most places, yeah. Right. And also plummeting resources. No, no, no. We resources will be fine. But they're not fine. And I know a lot about this. They're not fine now. No, they're... Look, I'm not suggesting complacency. But we do want to move to a sustainable energy economy as quickly as possible. But we're not in any danger of resource collapse. But lots of people don't have enough food or water. Water. We will run out of water. They're running out of sand. No, there's... Earth is 70% water by surface area. But you can't drink that. But, you know, desalination is absurdly cheap. Why don't we do it, then? We do it? It is done. You have a lot of free time. It is done. There is a lot of desalination done. Okay. But there's plenty of water. This is not an issue. I want to be clear. All right. So, but let's talk about AI. Because, like, you were on this tip ten years ago when nobody else was. And I always thought he's right. Why? Because I've seen too many movies. Everything that happens in movies. Yeah. That happens in real life. And, you know, if you make things that are waste-moder than you, why wouldn't they become your overlords? So, what did you say to Chuck Schumer? And what are we doing about this? I know you want to pause in AI. Because in the last six months, with chat GPT, which came from a company you started. Yes. I mean, if a friend of mine has a sort of modification of outcomes, you know, you're sort of the simplest thing, being the most likely, like the most ironic outcome is most likely. Right. Yes. So, with respect to AI, I just think we should have some sort of regulatory oversight. So, you know, for anything that is a danger to the public, if it's sort of aircraft, cars, food and drug and whatnot, we've got some regulatory oversight, like a referee, essentially, and making sure that companies don't cut corners. So, I think that since, if one agrees that AI is a potential risk to the public, then there should be some regulatory body that oversees what companies are doing, so that they don't cut corners and potentially do something very dangerous. That's a good thing. And if we don't do something, lay out a scenario for me in the next two, five, ten years. If nothing is done, because we're very good at doing nothing, especially when it comes in the way of profit, and this is a big profit engine now for companies, they're going to want to just compete with each other. I mean, there are people like Ray Curtis, who doesn't think it's a problem at all. Actually, Ray Curtis, who has a prediction for artificial superintelligence, is 2029. He's not far on. Right. But he doesn't think it's a problem, whereas people like you and Bill Gates and Stephen Hawking thought think it's a problem. Yeah, it depends. If some people want to live forever or for a much longer period of time, and they see AI as the only way to digital superintelligence as the only thing they can figure out how to get them to live forever, I think, because of all this in that category. So he would prefer to have AI, artificial general intelligence, than not, because it can figure out longevity. So are you optimistic? I read in your Rolling Stone article back in the day that you said you could never be happy unless you're in love. Well, you can be half happy, I suppose. I mean, there's two things. I think to be most happy, if you're happy in love and you love your work, then you'll be, I think, fully happy. If you're lucky either of those two, if you have one of those two things, be half happy, you know, roughly. But I feel like the theme in a lot of your works that connects all these different things is connecting. Like, you want to connect things. You know, you want to connect on the hyperlope and you want to connect this to Mars and even twir- Connect four. You want... You want that game. What? You connect four, you know, you can put it in. You want that game. What? Sorry, it's a comedy, you know? I'm gonna throw it so it's a comedy in there. It's okay. It's hard for you, because when you bought Twitter, you're kind of doing what you did when you took over, when you started Tesla. You lived at the factory, right? I feel like that's your... That's your pattern. You get into this thing and then you got to live at the factory to make it work. Yeah. You've been back and you moved to Texas, then you went back up to San Francisco because of Twitter. I was learning in the library of Twitter for a while. Yes. Well, I think things are reasonably stabilized right now. It was just on the fast-tracked bankruptcy after that position. So I had to take a drastic action. There wasn't any choice. I'm just saying it's hard for a woman. Yeah. To like when the guy lives at the factory. Yes. That could be a stumbling block. Yes. But overall with, you know, my concern with Twitter was to... It is somewhat of the digital town square and it's important that there be both the reality and perception of trust for a wide range of viewpoints. And there was a lot of censorship going on. And we sort of uncovered a lot of that with the Twitter files, including a lot of government-driven censorship. Which, you know, it seems that that's got to be a constitutional violation of what was going on there. But so since I'm like an avatoder user, I could detect that like something is not right here. And so that's really why the deposition is working. It wasn't because I thought this was an easy way to make money or something like that. This is being mayor of Twitter, tweet town, or whatever. It's definitely like... There's a lot of arrows pointed at you. Flying at you. Of course. But you seem to handle that okay. I hope you do. Because... Look, I mean, geniuses are going to be a little quirky sometimes. But your heart is always in the right place. You were trying to fix this one. And look, I could talk to you forever we can today. I'd love to get high with you. I know a great place to go. But I can't tell you how much I appreciate you. I know you have a lot of choices and places you can go. Thank you. We run must-leadings in Galamani. All right. I'll see you soon, we run. I'm going to get you. I'm going to get you. I'm going to get you. I'm going to get you. I'm going to get you. I'm going to get you. I'm going to get you. I'm going to get you. I'm going to get you. I'm going to get you. I'm going to get you. I'm going to get you. I'm going to get you. I'm going to get you.\")]"
            ]
          },
          "metadata": {},
          "execution_count": 134
        }
      ]
    },
    {
      "cell_type": "code",
      "source": [
        "from langchain.text_splitter import RecursiveCharacterTextSplitter\n",
        "\n",
        "text_splitter = RecursiveCharacterTextSplitter(chunk_size=1000, chunk_overlap=20)\n",
        "split_docs = text_splitter.split_documents(text_documents)[:5]"
      ],
      "metadata": {
        "id": "QeYUcwyoDP9C"
      },
      "execution_count": 135,
      "outputs": []
    },
    {
      "cell_type": "code",
      "source": [
        "split_docs[:5]"
      ],
      "metadata": {
        "colab": {
          "base_uri": "https://localhost:8080/"
        },
        "id": "Oq8xH0u33iNw",
        "outputId": "920ef52f-afa0-4bb3-afb0-a83b646d47b1"
      },
      "execution_count": 136,
      "outputs": [
        {
          "output_type": "execute_result",
          "data": {
            "text/plain": [
              "[Document(metadata={'source': 'transcription.txt'}, page_content=\"My first guest is the man who made electric cars a thing, and is currently working on perfecting reusable rockets, space travel, connecting the human brain directly to computers, connecting cities with electromagnetic bullet trains, the Starling satellite system, that's so important to the war in Ukraine, and then on Tuesday. LAUGHTER It's going to work on that tunnel thing on traffic. He also tweets a lot. Elon Musk, ladies and gentlemen. CHEERING AND APPLAUSE Look at you. LAUGHTER Come on. Come on. CHEERING AND APPLAUSE What did I get the full order of things that you do in a day there when I was reading there? I left out the tunnel thing at the end. Do you work on all these... A lot of jobs. Do you do all these things every day? Do you work on all of them in a single day? No. But I do have a long work day. Yeah, so I work a lot. LAUGHTER Well, I'm so thrilled you're here, because, you know, we do a show where we talk about what changes happen in the world, but we just talk. There's\"),\n",
              " Document(metadata={'source': 'transcription.txt'}, page_content=\"just talk. There's a very few people who actually make change happen. You are one of those people, probably. CHEERING AND APPLAUSE CHEERING AND APPLAUSE You know, I sort of say, I love this audience. LAUGHTER Well, you're a likable guy. I mean, they attack you a lot. Better. And you seem to laugh it off, which I think is fantastic. I love it that you have a sense of humor, because a guy, as important as you, who makes changes, could use your powers for evil and not good. The fact that you... Absolutely. You could. Of course, I would never use them for evil, not for evil. No, I know. But the way I know that is because you have a sense of humor. Oh, yeah. You really do. I started. You like laughing. You like to be funny. I kill me. Right. LAUGHTER AND APPLAUSE No, I... As opposed to somebody like Zuckerberg, who I'm not even sure is a real boy. LAUGHTER AND APPLAUSE Yeah. Um... APPLAUSE I actually love comedy. And I should, you know, like many years ago, I actually was in the audience\"),\n",
              " Document(metadata={'source': 'transcription.txt'}, page_content=\"was in the audience here, and watched your show. Oh, really? It's been a long time, my review show. Oh, well, thank you. LAUGHTER I... APPLAUSE Let me get back to you being a genius. LAUGHTER But that has always been my view. I was a history major. And when you study history, what you realize is that, you know, there's the great man theory, and they talk about kings and princes and queens and presidents. It's really the people in tech who change the world. They're the people who deal the cards. Whether it's fire or electricity for good or bad, or the cotton gin, or the iPhone, or the atom bomb. Those are the cards, and the rest of us just play it. Would you agree with that assessment? I think technology is the thing that causes these big step changes in civilization. So obviously you've got things like, say, the Gutenberg Press, before which... Right. ...was very difficult to get books. Yes. ...there were very rare, even if you had a thirst for knowledge, you really couldn't do\"),\n",
              " Document(metadata={'source': 'transcription.txt'}, page_content=\"really couldn't do anything about it, because there were very few books to read. And the internet is something beyond the Gutenberg Press, I think. But, you know, it's... I'm going to first of all, the internet coming into being in a way that the general public could use it. It felt like the humanity as a whole was developing a nervous system. So previously, the way the information would travel would be by osmosis, one person to another, or one person calling another. But the access to information is very limited. Now, with the internet, it's like having a nervous system. It's like any part of humanity has access to almost all the information of humanity. Like you could be in the middle of the Amazon jungle, whether it's a startling terminal, and have access to more information than the president did in 1980. Right. Well, anything on your phone? Everything. Is... Yeah. Okay. So, you are one of these dealers, these people who deal the cards, and say... I deal some names, too. I guess\"),\n",
              " Document(metadata={'source': 'transcription.txt'}, page_content=\"names, too. I guess you do. So, uh... Okay. So, I think a lot of people thought when you bought Twitter that this is kind of an outlier. Like, how does this... What doesn't fit with these other things you're doing? I never thought that, because I think... You're dealing with big civilizational issues and problems, and I was right on your page. I think Twitter is one of them. I mean, you have talked about this, uh... Woke Mind Virus. Yes. And really apocalyptic terms. I don't... You shouldn't explain why you don't think it's hyperbole to say things like it's pushing civilization towards suicide. First of all, what is the Woke Mind Virus? And if we don't deal with this, nothing else can get done. Tell me why you think that. Yeah. So, um... I think we need to be very cautious about anything that is anti-marital-cratic, and anything that is... That results in the suppression of free speech. So, you know, those are two of the aspects of the Woke Mind Virus that I think are very dangerous.\")]"
            ]
          },
          "metadata": {},
          "execution_count": 136
        }
      ]
    },
    {
      "cell_type": "code",
      "source": [
        "from langchain_openai.embeddings import OpenAIEmbeddings\n",
        "\n",
        "embeddings = OpenAIEmbeddings(openai_api_key=OPENAI_API_KEY)\n",
        "embedded_query = embeddings.embed_query(\"Who is Aneta's brother?\")\n",
        "\n",
        "\n",
        "print(f\"Embedding length: {len(embedded_query)}\")\n",
        "print(embedded_query[:10])"
      ],
      "metadata": {
        "colab": {
          "base_uri": "https://localhost:8080/"
        },
        "id": "opfOjeH80wv5",
        "outputId": "8076de65-6ec8-4e8b-bd06-11f1cd751142"
      },
      "execution_count": 138,
      "outputs": [
        {
          "output_type": "stream",
          "name": "stdout",
          "text": [
            "Embedding length: 1536\n",
            "[0.00965595431625843, -0.02455728128552437, 2.9322402042453177e-05, -0.023637039586901665, -0.014947338029742241, 0.016722088679671288, -0.025201449170708656, 0.00012776556832250208, -0.0065895807929337025, 0.0010451305424794555]\n"
          ]
        }
      ]
    },
    {
      "cell_type": "code",
      "source": [
        "sentence1 = embeddings.embed_query(\"Aneta's brother is John\")\n",
        "sentence2 = embeddings.embed_query(\"Sophia's mother is a teacher\")"
      ],
      "metadata": {
        "id": "K_8211ex39-Q"
      },
      "execution_count": 139,
      "outputs": []
    },
    {
      "cell_type": "code",
      "source": [
        "from sklearn.metrics.pairwise import cosine_similarity\n",
        "\n",
        "query_sentence1_similarity = cosine_similarity([embedded_query], [sentence1])[0][0]\n",
        "query_sentence2_similarity = cosine_similarity([embedded_query], [sentence2])[0][0]\n",
        "\n",
        "query_sentence1_similarity, query_sentence2_similarity"
      ],
      "metadata": {
        "colab": {
          "base_uri": "https://localhost:8080/"
        },
        "id": "S5GDKuOq4RFK",
        "outputId": "9e9aa23a-4daa-4062-bea3-7923d3d8552c"
      },
      "execution_count": 140,
      "outputs": [
        {
          "output_type": "execute_result",
          "data": {
            "text/plain": [
              "(0.9508115269637826, 0.7688260016651269)"
            ]
          },
          "metadata": {},
          "execution_count": 140
        }
      ]
    },
    {
      "cell_type": "code",
      "source": [
        "from langchain_community.vectorstores import DocArrayInMemorySearch\n",
        "\n",
        "vectorstore1 = DocArrayInMemorySearch.from_texts(\n",
        "   [ \"Aneta's brother is John\",\n",
        "     \"Joe and Steve are borthers\",\n",
        "     \"Joanna likes cars\",\n",
        "     \"Sophia's mother is a teacher\",\n",
        "     \"Lucia drives an Audi\",\n",
        "     \"Aneta has two siblings\",\n",
        "     \"Mercedes is an amazing car\"\n",
        "   ],\n",
        "   embedding=embeddings\n",
        ")"
      ],
      "metadata": {
        "id": "UotWkwz567tT"
      },
      "execution_count": 141,
      "outputs": []
    },
    {
      "cell_type": "code",
      "source": [
        "vectorstore1.similarity_search_with_score(query=\"Who is Aneta's brother?\", k=3)"
      ],
      "metadata": {
        "colab": {
          "base_uri": "https://localhost:8080/"
        },
        "id": "1hIdpAFp8wKV",
        "outputId": "5e8324de-dddd-4109-f52d-28cfe7c302b7"
      },
      "execution_count": 142,
      "outputs": [
        {
          "output_type": "execute_result",
          "data": {
            "text/plain": [
              "[(Document(page_content=\"Aneta's brother is John\"), 0.950811531882629),\n",
              " (Document(page_content='Aneta has two siblings'), 0.9092610198366385),\n",
              " (Document(page_content='Joe and Steve are borthers'), 0.7867379526754881)]"
            ]
          },
          "metadata": {},
          "execution_count": 142
        }
      ]
    },
    {
      "cell_type": "code",
      "source": [
        "retriever1 = vectorstore1.as_retriever()\n",
        "retriever1.invoke(\"Who is Aneta's brother?\")"
      ],
      "metadata": {
        "colab": {
          "base_uri": "https://localhost:8080/"
        },
        "id": "Ic197xWD9eHZ",
        "outputId": "66e084d7-f96d-4792-cd02-88c3435ebd5c"
      },
      "execution_count": 143,
      "outputs": [
        {
          "output_type": "execute_result",
          "data": {
            "text/plain": [
              "[Document(page_content=\"Aneta's brother is John\"),\n",
              " Document(page_content='Aneta has two siblings'),\n",
              " Document(page_content='Joe and Steve are borthers'),\n",
              " Document(page_content='Joanna likes cars')]"
            ]
          },
          "metadata": {},
          "execution_count": 143
        }
      ]
    },
    {
      "cell_type": "code",
      "source": [
        "from langchain_core.runnables import RunnableParallel, RunnablePassthrough\n",
        "\n",
        "setup = RunnableParallel(context=retriever1, question=RunnablePassthrough())\n",
        "setup.invoke(\"What's the great car?\")"
      ],
      "metadata": {
        "colab": {
          "base_uri": "https://localhost:8080/"
        },
        "id": "Z9lhEYFA-G-W",
        "outputId": "1ec0528f-8cce-4932-ef06-fac24d9b6fd1"
      },
      "execution_count": 144,
      "outputs": [
        {
          "output_type": "execute_result",
          "data": {
            "text/plain": [
              "{'context': [Document(page_content='Mercedes is an amazing car'),\n",
              "  Document(page_content='Joanna likes cars'),\n",
              "  Document(page_content='Lucia drives an Audi'),\n",
              "  Document(page_content='Joe and Steve are borthers')],\n",
              " 'question': \"What's the great car?\"}"
            ]
          },
          "metadata": {},
          "execution_count": 144
        }
      ]
    },
    {
      "cell_type": "code",
      "source": [
        "chain = setup | prompt | model | parser\n",
        "chain.invoke(\"What does Joanna like?\")"
      ],
      "metadata": {
        "colab": {
          "base_uri": "https://localhost:8080/",
          "height": 35
        },
        "id": "lG98u5Nm-ocZ",
        "outputId": "c6c28072-b38b-4d17-f490-b3e5a3c4161f"
      },
      "execution_count": 145,
      "outputs": [
        {
          "output_type": "execute_result",
          "data": {
            "text/plain": [
              "'Joanna likes cars.'"
            ],
            "application/vnd.google.colaboratory.intrinsic+json": {
              "type": "string"
            }
          },
          "metadata": {},
          "execution_count": 145
        }
      ]
    },
    {
      "cell_type": "code",
      "source": [
        "# Loading documents into the vector store\n",
        "\n",
        "vectorstore2 = DocArrayInMemorySearch.from_documents(text_documents, embeddings)"
      ],
      "metadata": {
        "id": "PLouqtSrHiWU"
      },
      "execution_count": 146,
      "outputs": []
    },
    {
      "cell_type": "code",
      "source": [
        "chain = (\n",
        "    {\"context\": vectorstore2.as_retriever(), \"question\": RunnablePassthrough()}\n",
        "    | prompt\n",
        "    | model\n",
        "    | parser\n",
        ")\n",
        "chain.invoke(\"What is a First Amendment?\")"
      ],
      "metadata": {
        "colab": {
          "base_uri": "https://localhost:8080/",
          "height": 35
        },
        "id": "8EKu7KGSIK_v",
        "outputId": "43c0fe28-7e83-46ce-c2e8-962fa0bb8872"
      },
      "execution_count": 147,
      "outputs": [
        {
          "output_type": "execute_result",
          "data": {
            "text/plain": [
              "'The First Amendment is the part of the United States Constitution that guarantees freedom of speech.'"
            ],
            "application/vnd.google.colaboratory.intrinsic+json": {
              "type": "string"
            }
          },
          "metadata": {},
          "execution_count": 147
        }
      ]
    },
    {
      "cell_type": "code",
      "source": [
        "from langchain_pinecone import PineconeVectorStore\n",
        "import os\n",
        "\n",
        "os.environ[\"OPENAI_API_KEY\"] = userdata.get(\"OPENAI_API_KEY\")\n",
        "os.environ[\"PINECONE_API_KEY\"] = userdata.get(\"DB_API_KEY\")\n",
        "\n",
        "embeddings = OpenAIEmbeddings()\n",
        "\n",
        "index_name = \"rag-index\"\n"
      ],
      "metadata": {
        "id": "yICgvquS5hCj"
      },
      "execution_count": 167,
      "outputs": []
    },
    {
      "cell_type": "code",
      "source": [
        "vectorstore = PineconeVectorStore.from_documents(split_docs, embeddings, index_name=index_name)"
      ],
      "metadata": {
        "id": "Z40tVL4Z_rOv"
      },
      "execution_count": 168,
      "outputs": []
    },
    {
      "cell_type": "code",
      "source": [
        "vectorstore.similarity_search(\"What is Tesla going to start doing?\")[:3]"
      ],
      "metadata": {
        "colab": {
          "base_uri": "https://localhost:8080/"
        },
        "id": "j3DojlxLBN2H",
        "outputId": "f49d2ef8-3d56-48c2-ae76-37d77d7255ca"
      },
      "execution_count": 169,
      "outputs": [
        {
          "output_type": "execute_result",
          "data": {
            "text/plain": [
              "[Document(metadata={'source': 'transcription.txt'}, page_content=\"My first guest is the man who made electric cars a thing, and is currently working on perfecting reusable rockets, space travel, connecting the human brain directly to computers, connecting cities with electromagnetic bullet trains, the Starling satellite system, that's so important to the war in Ukraine, and then on Tuesday. LAUGHTER It's going to work on that tunnel thing on traffic. He also tweets a lot. Elon Musk, ladies and gentlemen. CHEERING AND APPLAUSE Look at you. LAUGHTER Come on. Come on. CHEERING AND APPLAUSE What did I get the full order of things that you do in a day there when I was reading there? I left out the tunnel thing at the end. Do you work on all these... A lot of jobs. Do you do all these things every day? Do you work on all of them in a single day? No. But I do have a long work day. Yeah, so I work a lot. LAUGHTER Well, I'm so thrilled you're here, because, you know, we do a show where we talk about what changes happen in the world, but we just talk. There's a very few people who actually make change happen. You are one of those people, probably. CHEERING AND APPLAUSE CHEERING AND APPLAUSE You know, I sort of say, I love this audience. LAUGHTER Well, you're a likable guy. I mean, they attack you a lot. Better. And you seem to laugh it off, which I think is fantastic. I love it that you have a sense of humor, because a guy, as important as you, who makes changes, could use your powers for evil and not good. The fact that you... Absolutely. You could. Of course, I would never use them for evil, not for evil. No, I know. But the way I know that is because you have a sense of humor. Oh, yeah. You really do. I started. You like laughing. You like to be funny. I kill me. Right. LAUGHTER AND APPLAUSE No, I... As opposed to somebody like Zuckerberg, who I'm not even sure is a real boy. LAUGHTER AND APPLAUSE Yeah. Um... APPLAUSE I actually love comedy. And I should, you know, like many years ago, I actually was in the audience here, and watched your show. Oh, really? It's been a long time, my review show. Oh, well, thank you. LAUGHTER I... APPLAUSE Let me get back to you being a genius. LAUGHTER But that has always been my view. I was a history major. And when you study history, what you realize is that, you know, there's the great man theory, and they talk about kings and princes and queens and presidents. It's really the people in tech who change the world. They're the people who deal the cards. Whether it's fire or electricity for good or bad, or the cotton gin, or the iPhone, or the atom bomb. Those are the cards, and the rest of us just play it. Would you agree with that assessment? I think technology is the thing that causes these big step changes in civilization. So obviously you've got things like, say, the Gutenberg Press, before which... Right. ...was very difficult to get books. Yes. ...there were very rare, even if you had a thirst for knowledge, you really couldn't do anything about it, because there were very few books to read. And the internet is something beyond the Gutenberg Press, I think. But, you know, it's... I'm going to first of all, the internet coming into being in a way that the general public could use it. It felt like the humanity as a whole was developing a nervous system. So previously, the way the information would travel would be by osmosis, one person to another, or one person calling another. But the access to information is very limited. Now, with the internet, it's like having a nervous system. It's like any part of humanity has access to almost all the information of humanity. Like you could be in the middle of the Amazon jungle, whether it's a startling terminal, and have access to more information than the president did in 1980. Right. Well, anything on your phone? Everything. Is... Yeah. Okay. So, you are one of these dealers, these people who deal the cards, and say... I deal some names, too. I guess you do. So, uh... Okay. So, I think a lot of people thought when you\"),\n",
              " Document(metadata={'source': 'transcription.txt'}, page_content=\"My first guest is the man who made electric cars a thing, and is currently working on perfecting reusable rockets, space travel, connecting the human brain directly to computers, connecting cities with electromagnetic bullet trains, the Starling satellite system, that's so important to the war in Ukraine, and then on Tuesday. LAUGHTER It's going to work on that tunnel thing on traffic. He also tweets a lot. Elon Musk, ladies and gentlemen. CHEERING AND APPLAUSE Look at you. LAUGHTER Come on. Come on. CHEERING AND APPLAUSE What did I get the full order of things that you do in a day there when I was reading there? I left out the tunnel thing at the end. Do you work on all these... A lot of jobs. Do you do all these things every day? Do you work on all of them in a single day? No. But I do have a long work day. Yeah, so I work a lot. LAUGHTER Well, I'm so thrilled you're here, because, you know, we do a show where we talk about what changes happen in the world, but we just talk. There's a very few people who actually make change happen. You are one of those people, probably. CHEERING AND APPLAUSE CHEERING AND APPLAUSE You know, I sort of say, I love this audience. LAUGHTER Well, you're a likable guy. I mean, they attack you a lot. Better. And you seem to laugh it off, which I think is fantastic. I love it that you have a sense of humor, because a guy, as important as you, who makes changes, could use your powers for evil and not good. The fact that you... Absolutely. You could. Of course, I would never use them for evil, not for evil. No, I know. But the way I know that is because you have a sense of humor. Oh, yeah. You really do. I started. You like laughing. You like to be funny. I kill me. Right. LAUGHTER AND APPLAUSE No, I... As opposed to somebody like Zuckerberg, who I'm not even sure is a real boy. LAUGHTER AND APPLAUSE Yeah. Um... APPLAUSE I actually love comedy. And I should, you know, like many years ago, I actually was in the audience here, and watched your show. Oh, really? It's been a long time, my review show. Oh, well, thank you. LAUGHTER I... APPLAUSE Let me get back to you being a genius. LAUGHTER But that has always been my view. I was a history major. And when you study history, what you realize is that, you know, there's the great man theory, and they talk about kings and princes and queens and presidents. It's really the people in tech who change the world. They're the people who deal the cards. Whether it's fire or electricity for good or bad, or the cotton gin, or the iPhone, or the atom bomb. Those are the cards, and the rest of us just play it. Would you agree with that assessment? I think technology is the thing that causes these big step changes in civilization. So obviously you've got things like, say, the Gutenberg Press, before which... Right. ...was very difficult to get books. Yes. ...there were very rare, even if you had a thirst for knowledge, you really couldn't do anything about it, because there were very few books to read. And the internet is something beyond the Gutenberg Press, I think. But, you know, it's... I'm going to first of all, the internet coming into being in a way that the general public could use it. It felt like the humanity as a whole was developing a nervous system. So previously, the way the information would travel would be by osmosis, one person to another, or one person calling another. But the access to information is very limited. Now, with the internet, it's like having a nervous system. It's like any part of humanity has access to almost all the information of humanity. Like you could be in the middle of the Amazon jungle, whether it's a startling terminal, and have access to more information than the president did in 1980. Right. Well, anything on your phone? Everything. Is... Yeah. Okay. So, you are one of these dealers, these people who deal the cards, and say... I deal some names, too. I guess you do. So, uh... Okay. So, I think a lot of people thought when you\"),\n",
              " Document(metadata={'source': 'transcription.txt'}, page_content=\"risk to the public, then there should be some regulatory body that oversees what companies are doing, so that they don't cut corners and potentially do something very dangerous. That's a good thing. And if we don't do something, lay out a scenario for me in the next two, five, ten years. If nothing is done, because we're very good at doing nothing, especially when it comes in the way of profit, and this is a big profit engine now for companies, they're going to want to just compete with each other. I mean, there are people like Ray Curtis, who doesn't think it's a problem at all. Actually, Ray Curtis, who has a prediction for artificial superintelligence, is 2029. He's not far on. Right. But he doesn't think it's a problem, whereas people like you and Bill Gates and Stephen Hawking thought think it's a problem. Yeah, it depends. If some people want to live forever or for a much longer period of time, and they see AI as the only way to digital superintelligence as the only thing they can figure out how to get them to live forever, I think, because of all this in that category. So he would prefer to have AI, artificial general intelligence, than not, because it can figure out longevity. So are you optimistic? I read in your Rolling Stone article back in the day that you said you could never be happy unless you're in love. Well, you can be half happy, I suppose. I mean, there's two things. I think to be most happy, if you're happy in love and you love your work, then you'll be, I think, fully happy. If you're lucky either of those two, if you have one of those two things, be half happy, you know, roughly. But I feel like the theme in a lot of your works that connects all these different things is connecting. Like, you want to connect things. You know, you want to connect on the hyperlope and you want to connect this to Mars and even twir- Connect four. You want... You want that game. What? You connect four, you know, you can put it in. You want that game. What? Sorry, it's a comedy, you know? I'm gonna throw it so it's a comedy in there. It's okay. It's hard for you, because when you bought Twitter, you're kind of doing what you did when you took over, when you started Tesla. You lived at the factory, right? I feel like that's your... That's your pattern. You get into this thing and then you got to live at the factory to make it work. Yeah. You've been back and you moved to Texas, then you went back up to San Francisco because of Twitter. I was learning in the library of Twitter for a while. Yes. Well, I think things are reasonably stabilized right now. It was just on the fast-tracked bankruptcy after that position. So I had to take a drastic action. There wasn't any choice. I'm just saying it's hard for a woman. Yeah. To like when the guy lives at the factory. Yes. That could be a stumbling block. Yes. But overall with, you know, my concern with Twitter was to... It is somewhat of the digital town square and it's important that there be both the reality and perception of trust for a wide range of viewpoints. And there was a lot of censorship going on. And we sort of uncovered a lot of that with the Twitter files, including a lot of government-driven censorship. Which, you know, it seems that that's got to be a constitutional violation of what was going on there. But so since I'm like an avatoder user, I could detect that like something is not right here. And so that's really why the deposition is working. It wasn't because I thought this was an easy way to make money or something like that. This is being mayor of Twitter, tweet town, or whatever. It's definitely like... There's a lot of arrows pointed at you. Flying at you. Of course. But you seem to handle that okay. I hope you do. Because... Look, I mean, geniuses are going to be a little quirky sometimes. But your heart is always in the right place. You were trying to fix this one. And look, I could talk to you forever we can today. I'd love to get high with you. I know a\")]"
            ]
          },
          "metadata": {},
          "execution_count": 169
        }
      ]
    },
    {
      "cell_type": "code",
      "source": [
        "chain = (\n",
        "    {\"context\": vectorstore.as_retriever(), \"question\": RunnablePassthrough()}\n",
        "    | prompt\n",
        "    | model\n",
        "    | parser\n",
        ")\n",
        "\n",
        "chain.invoke(\"What is Tesla going to do?\")"
      ],
      "metadata": {
        "colab": {
          "base_uri": "https://localhost:8080/",
          "height": 52
        },
        "id": "o4_Nnm0eBzip",
        "outputId": "5bcaa137-80da-49ac-99d9-56077ca476c1"
      },
      "execution_count": 171,
      "outputs": [
        {
          "output_type": "execute_result",
          "data": {
            "text/plain": [
              "'Tesla is going to work on perfecting reusable rockets, space travel, connecting the human brain directly to computers, connecting cities with electromagnetic bullet trains, and the Starling satellite system.'"
            ],
            "application/vnd.google.colaboratory.intrinsic+json": {
              "type": "string"
            }
          },
          "metadata": {},
          "execution_count": 171
        }
      ]
    }
  ]
}